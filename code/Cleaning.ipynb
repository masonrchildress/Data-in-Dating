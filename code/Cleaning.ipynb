{
 "cells": [
  {
   "cell_type": "code",
   "execution_count": 1,
   "metadata": {},
   "outputs": [],
   "source": [
    "import pandas as pd\n",
    "import matplotlib.pyplot as plt\n",
    "import seaborn as sns\n",
    "pd.options.mode.chained_assignment = None"
   ]
  },
  {
   "cell_type": "markdown",
   "metadata": {},
   "source": [
    "### Reading in raw DF"
   ]
  },
  {
   "cell_type": "code",
   "execution_count": 2,
   "metadata": {
    "scrolled": true
   },
   "outputs": [
    {
     "data": {
      "text/html": [
       "<div>\n",
       "<style scoped>\n",
       "    .dataframe tbody tr th:only-of-type {\n",
       "        vertical-align: middle;\n",
       "    }\n",
       "\n",
       "    .dataframe tbody tr th {\n",
       "        vertical-align: top;\n",
       "    }\n",
       "\n",
       "    .dataframe thead th {\n",
       "        text-align: right;\n",
       "    }\n",
       "</style>\n",
       "<table border=\"1\" class=\"dataframe\">\n",
       "  <thead>\n",
       "    <tr style=\"text-align: right;\">\n",
       "      <th></th>\n",
       "      <th>iid</th>\n",
       "      <th>id</th>\n",
       "      <th>gender</th>\n",
       "      <th>idg</th>\n",
       "      <th>condtn</th>\n",
       "      <th>wave</th>\n",
       "      <th>round</th>\n",
       "      <th>position</th>\n",
       "      <th>positin1</th>\n",
       "      <th>order</th>\n",
       "      <th>...</th>\n",
       "      <th>attr3_3</th>\n",
       "      <th>sinc3_3</th>\n",
       "      <th>intel3_3</th>\n",
       "      <th>fun3_3</th>\n",
       "      <th>amb3_3</th>\n",
       "      <th>attr5_3</th>\n",
       "      <th>sinc5_3</th>\n",
       "      <th>intel5_3</th>\n",
       "      <th>fun5_3</th>\n",
       "      <th>amb5_3</th>\n",
       "    </tr>\n",
       "  </thead>\n",
       "  <tbody>\n",
       "    <tr>\n",
       "      <th>0</th>\n",
       "      <td>1</td>\n",
       "      <td>1.0</td>\n",
       "      <td>0</td>\n",
       "      <td>1</td>\n",
       "      <td>1</td>\n",
       "      <td>1</td>\n",
       "      <td>10</td>\n",
       "      <td>7</td>\n",
       "      <td>NaN</td>\n",
       "      <td>4</td>\n",
       "      <td>...</td>\n",
       "      <td>5.0</td>\n",
       "      <td>7.0</td>\n",
       "      <td>7.0</td>\n",
       "      <td>7.0</td>\n",
       "      <td>7.0</td>\n",
       "      <td>NaN</td>\n",
       "      <td>NaN</td>\n",
       "      <td>NaN</td>\n",
       "      <td>NaN</td>\n",
       "      <td>NaN</td>\n",
       "    </tr>\n",
       "    <tr>\n",
       "      <th>1</th>\n",
       "      <td>1</td>\n",
       "      <td>1.0</td>\n",
       "      <td>0</td>\n",
       "      <td>1</td>\n",
       "      <td>1</td>\n",
       "      <td>1</td>\n",
       "      <td>10</td>\n",
       "      <td>7</td>\n",
       "      <td>NaN</td>\n",
       "      <td>3</td>\n",
       "      <td>...</td>\n",
       "      <td>5.0</td>\n",
       "      <td>7.0</td>\n",
       "      <td>7.0</td>\n",
       "      <td>7.0</td>\n",
       "      <td>7.0</td>\n",
       "      <td>NaN</td>\n",
       "      <td>NaN</td>\n",
       "      <td>NaN</td>\n",
       "      <td>NaN</td>\n",
       "      <td>NaN</td>\n",
       "    </tr>\n",
       "    <tr>\n",
       "      <th>2</th>\n",
       "      <td>1</td>\n",
       "      <td>1.0</td>\n",
       "      <td>0</td>\n",
       "      <td>1</td>\n",
       "      <td>1</td>\n",
       "      <td>1</td>\n",
       "      <td>10</td>\n",
       "      <td>7</td>\n",
       "      <td>NaN</td>\n",
       "      <td>10</td>\n",
       "      <td>...</td>\n",
       "      <td>5.0</td>\n",
       "      <td>7.0</td>\n",
       "      <td>7.0</td>\n",
       "      <td>7.0</td>\n",
       "      <td>7.0</td>\n",
       "      <td>NaN</td>\n",
       "      <td>NaN</td>\n",
       "      <td>NaN</td>\n",
       "      <td>NaN</td>\n",
       "      <td>NaN</td>\n",
       "    </tr>\n",
       "    <tr>\n",
       "      <th>3</th>\n",
       "      <td>1</td>\n",
       "      <td>1.0</td>\n",
       "      <td>0</td>\n",
       "      <td>1</td>\n",
       "      <td>1</td>\n",
       "      <td>1</td>\n",
       "      <td>10</td>\n",
       "      <td>7</td>\n",
       "      <td>NaN</td>\n",
       "      <td>5</td>\n",
       "      <td>...</td>\n",
       "      <td>5.0</td>\n",
       "      <td>7.0</td>\n",
       "      <td>7.0</td>\n",
       "      <td>7.0</td>\n",
       "      <td>7.0</td>\n",
       "      <td>NaN</td>\n",
       "      <td>NaN</td>\n",
       "      <td>NaN</td>\n",
       "      <td>NaN</td>\n",
       "      <td>NaN</td>\n",
       "    </tr>\n",
       "    <tr>\n",
       "      <th>4</th>\n",
       "      <td>1</td>\n",
       "      <td>1.0</td>\n",
       "      <td>0</td>\n",
       "      <td>1</td>\n",
       "      <td>1</td>\n",
       "      <td>1</td>\n",
       "      <td>10</td>\n",
       "      <td>7</td>\n",
       "      <td>NaN</td>\n",
       "      <td>7</td>\n",
       "      <td>...</td>\n",
       "      <td>5.0</td>\n",
       "      <td>7.0</td>\n",
       "      <td>7.0</td>\n",
       "      <td>7.0</td>\n",
       "      <td>7.0</td>\n",
       "      <td>NaN</td>\n",
       "      <td>NaN</td>\n",
       "      <td>NaN</td>\n",
       "      <td>NaN</td>\n",
       "      <td>NaN</td>\n",
       "    </tr>\n",
       "  </tbody>\n",
       "</table>\n",
       "<p>5 rows × 195 columns</p>\n",
       "</div>"
      ],
      "text/plain": [
       "   iid   id  gender  idg  condtn  wave  round  position  positin1  order  \\\n",
       "0    1  1.0       0    1       1     1     10         7       NaN      4   \n",
       "1    1  1.0       0    1       1     1     10         7       NaN      3   \n",
       "2    1  1.0       0    1       1     1     10         7       NaN     10   \n",
       "3    1  1.0       0    1       1     1     10         7       NaN      5   \n",
       "4    1  1.0       0    1       1     1     10         7       NaN      7   \n",
       "\n",
       "    ...    attr3_3  sinc3_3  intel3_3  fun3_3  amb3_3  attr5_3  sinc5_3  \\\n",
       "0   ...        5.0      7.0       7.0     7.0     7.0      NaN      NaN   \n",
       "1   ...        5.0      7.0       7.0     7.0     7.0      NaN      NaN   \n",
       "2   ...        5.0      7.0       7.0     7.0     7.0      NaN      NaN   \n",
       "3   ...        5.0      7.0       7.0     7.0     7.0      NaN      NaN   \n",
       "4   ...        5.0      7.0       7.0     7.0     7.0      NaN      NaN   \n",
       "\n",
       "   intel5_3  fun5_3  amb5_3  \n",
       "0       NaN     NaN     NaN  \n",
       "1       NaN     NaN     NaN  \n",
       "2       NaN     NaN     NaN  \n",
       "3       NaN     NaN     NaN  \n",
       "4       NaN     NaN     NaN  \n",
       "\n",
       "[5 rows x 195 columns]"
      ]
     },
     "execution_count": 2,
     "metadata": {},
     "output_type": "execute_result"
    }
   ],
   "source": [
    "df = pd.read_csv('../datasets/Speed Dating Data.csv', encoding = 'ISO-8859-1')\n",
    "df.head()"
   ]
  },
  {
   "cell_type": "code",
   "execution_count": 3,
   "metadata": {},
   "outputs": [
    {
     "data": {
      "text/plain": [
       "mn_sat     object\n",
       "tuition    object\n",
       "dtype: object"
      ]
     },
     "execution_count": 3,
     "metadata": {},
     "output_type": "execute_result"
    }
   ],
   "source": [
    "df[['mn_sat', 'tuition']].dtypes"
   ]
  },
  {
   "cell_type": "code",
   "execution_count": 4,
   "metadata": {},
   "outputs": [
    {
     "data": {
      "text/plain": [
       "5245"
      ]
     },
     "execution_count": 4,
     "metadata": {},
     "output_type": "execute_result"
    }
   ],
   "source": [
    "df['mn_sat'].isnull().sum()"
   ]
  },
  {
   "cell_type": "code",
   "execution_count": 5,
   "metadata": {},
   "outputs": [
    {
     "data": {
      "text/plain": [
       "4795"
      ]
     },
     "execution_count": 5,
     "metadata": {},
     "output_type": "execute_result"
    }
   ],
   "source": [
    "df['tuition'].isnull().sum()"
   ]
  },
  {
   "cell_type": "markdown",
   "metadata": {},
   "source": [
    "### Length dummies"
   ]
  },
  {
   "cell_type": "markdown",
   "metadata": {},
   "source": [
    "### Number of date dummies"
   ]
  },
  {
   "cell_type": "markdown",
   "metadata": {},
   "source": [
    "### Goal dummies"
   ]
  },
  {
   "cell_type": "markdown",
   "metadata": {},
   "source": [
    "### Career Dummies"
   ]
  },
  {
   "cell_type": "code",
   "execution_count": 6,
   "metadata": {},
   "outputs": [],
   "source": [
    "# Filling empty career_cd with 1 (lawyer) where career = law\n",
    "for i in (df[(df['career'] == 'lawyer') | (df['career'] == 'law')].index):\n",
    "    df['career_c'][i] = 1\n",
    "    \n",
    "# Filling empty career_cd with 7 (business) where career = Economist\n",
    "for i in (df[df['career'] == 'Economist'].index):\n",
    "    df['career_c'][i] = 7\n",
    "    \n",
    "# Filling empty career_cd with 15 (other) where career = tech prof.\n",
    "for i in (df[df['career'] == 'tech professional'].index):\n",
    "    df['career_c'][i] = 15\n",
    "\n",
    "# Replacing nulls in career_c with 18 or career_not_\n",
    "df['career_c'].fillna(18, inplace=True)\n",
    "\n",
    "# Creating dummy list for career\n",
    "career_dict = {1: 'lawyer_c', 2:'academic_c', 3:'psychologist_c', 4:'doctor/med_c',\n",
    "               5:'engineer_c', 6:'creative_art/entertain_c', 7:'business/entrepreur',\n",
    "               8:'real_estate_c', 9:'international/human_affairs_c', 10:'undecided',\n",
    "               11:'speech_pathology_c', 13:'politics_c', 14:'sports/athletics_c',\n",
    "               15:'other_c', 16:'journalism_c', 17:'architecture_c'}\n",
    "\n",
    "df['career_c'].astype(int)\n",
    "df = pd.concat([df, pd.get_dummies(df['career_c'])], axis=1)\n",
    "df.rename(columns=career_dict, inplace=True)"
   ]
  },
  {
   "cell_type": "markdown",
   "metadata": {},
   "source": [
    "### Field Dummies"
   ]
  },
  {
   "cell_type": "code",
   "execution_count": 7,
   "metadata": {},
   "outputs": [],
   "source": [
    "# Categorizing Operations Research with other Business degrees\n",
    "for i in (df[df['field'] == 'Operations Research'].index):\n",
    "    df['field_cd'][i] = 8\n",
    "\n",
    "# Replacing nulls in field_cd with 19 or field_not_submitted\n",
    "df['field_cd'].fillna(19, inplace=True)\n",
    "\n",
    "# Creating dummy list for fields\n",
    "field_dict = {1:'law', 2:'math', 3:'social science/psych', 4:'med/biotech', 5:'engineering',\n",
    "              6:'english/journalism', 7:'history, religion, philosophy',\n",
    "              8:'business, econ, finance', 9:'education', 10:'bio, chem, physics', 11:'social work',\n",
    "             12:'undecided', 13:'poli-sci, inter affairs', 14:'film', 15:'fine arts', 16:'languages', 17:'architect',\n",
    "             18:'other', 19:'field_not_submitted'}\n",
    "\n",
    "df['field_cd'].astype(int)\n",
    "df = pd.concat([df, pd.get_dummies(df['field_cd'])], axis=1)\n",
    "df.rename(columns=field_dict, inplace=True)"
   ]
  },
  {
   "cell_type": "markdown",
   "metadata": {},
   "source": [
    "### Race dummies"
   ]
  },
  {
   "cell_type": "code",
   "execution_count": 8,
   "metadata": {},
   "outputs": [],
   "source": [
    "# filling NA with 7 or race_not_submitted\n",
    "df['race'].fillna(7, inplace=True)\n",
    "\n",
    "race_dict = {1.0:'black',\n",
    "           2.0:'caucasian',\n",
    "           3.0:'latino',\n",
    "           4.0:'asian',\n",
    "           5.0:'native_american',\n",
    "           6.0:'other',\n",
    "           7.0:'race_not_submitted'}\n",
    "\n",
    "# creating dummies for participant race\n",
    "df = pd.concat([df, pd.get_dummies(df['race'])], axis=1)\n",
    "df.rename(columns=race_dict, inplace=True)\n",
    "\n",
    "race_dict_o = dict(zip([i for i in race_dict.keys()],\n",
    "        [i + '_o' for i in race_dict.values()]))\n",
    "\n",
    "# creating dummies for partner race\n",
    "df = pd.concat([df, pd.get_dummies(df['race_o'])], axis=1)\n",
    "df.rename(columns=race_dict_o, inplace=True)\n"
   ]
  },
  {
   "cell_type": "code",
   "execution_count": 9,
   "metadata": {},
   "outputs": [
    {
     "data": {
      "text/plain": [
       "(8378, 242)"
      ]
     },
     "execution_count": 9,
     "metadata": {},
     "output_type": "execute_result"
    }
   ],
   "source": [
    "df.shape"
   ]
  },
  {
   "cell_type": "code",
   "execution_count": 10,
   "metadata": {},
   "outputs": [
    {
     "data": {
      "text/plain": [
       "num_in_3                         7710\n",
       "numdat_3                         6882\n",
       "expnum                           6578\n",
       "amb7_2                           6423\n",
       "sinc7_2                          6423\n",
       "shar7_2                          6404\n",
       "fun7_2                           6394\n",
       "intel7_2                         6394\n",
       "attr7_2                          6394\n",
       "shar2_3                          6362\n",
       "amb5_3                           6362\n",
       "fun5_3                           6362\n",
       "intel5_3                         6362\n",
       "sinc5_3                          6362\n",
       "attr5_3                          6362\n",
       "attr7_3                          6362\n",
       "sinc7_3                          6362\n",
       "intel7_3                         6362\n",
       "fun7_3                           6362\n",
       "amb7_3                           6362\n",
       "shar7_3                          6362\n",
       "intel4_3                         5419\n",
       "fun4_3                           5419\n",
       "attr4_3                          5419\n",
       "fun2_3                           5419\n",
       "attr2_3                          5419\n",
       "sinc4_3                          5419\n",
       "amb2_3                           5419\n",
       "intel2_3                         5419\n",
       "sinc2_3                          5419\n",
       "                                 ... \n",
       "other                               0\n",
       "black_o                             0\n",
       "caucasian_o                         0\n",
       "latino_o                            0\n",
       "english/journalism                  0\n",
       "med/biotech                         0\n",
       "dec                                 0\n",
       "social science/psych                0\n",
       "asian_o                             0\n",
       "lawyer_c                            0\n",
       "academic_c                          0\n",
       "psychologist_c                      0\n",
       "doctor/med_c                        0\n",
       "engineer_c                          0\n",
       "creative_art/entertain_c            0\n",
       "business/entrepreur                 0\n",
       "real_estate_c                       0\n",
       "international/human_affairs_c       0\n",
       "undecided                           0\n",
       "speech_pathology_c                  0\n",
       "undecided                           0\n",
       "politics_c                          0\n",
       "sports/athletics_c                  0\n",
       "other_c                             0\n",
       "journalism_c                        0\n",
       "architecture_c                      0\n",
       "other                               0\n",
       "law                                 0\n",
       "math                                0\n",
       "iid                                 0\n",
       "Length: 242, dtype: int64"
      ]
     },
     "execution_count": 10,
     "metadata": {},
     "output_type": "execute_result"
    }
   ],
   "source": [
    "df.isnull().sum().sort_values(ascending=False)"
   ]
  },
  {
   "cell_type": "markdown",
   "metadata": {},
   "source": [
    "### Grouping DF on individual"
   ]
  },
  {
   "cell_type": "code",
   "execution_count": 11,
   "metadata": {},
   "outputs": [
    {
     "data": {
      "text/html": [
       "<div>\n",
       "<style scoped>\n",
       "    .dataframe tbody tr th:only-of-type {\n",
       "        vertical-align: middle;\n",
       "    }\n",
       "\n",
       "    .dataframe tbody tr th {\n",
       "        vertical-align: top;\n",
       "    }\n",
       "\n",
       "    .dataframe thead th {\n",
       "        text-align: right;\n",
       "    }\n",
       "</style>\n",
       "<table border=\"1\" class=\"dataframe\">\n",
       "  <thead>\n",
       "    <tr style=\"text-align: right;\">\n",
       "      <th></th>\n",
       "      <th>id</th>\n",
       "      <th>gender</th>\n",
       "      <th>idg</th>\n",
       "      <th>condtn</th>\n",
       "      <th>wave</th>\n",
       "      <th>round</th>\n",
       "      <th>position</th>\n",
       "      <th>positin1</th>\n",
       "      <th>order</th>\n",
       "      <th>partner</th>\n",
       "      <th>...</th>\n",
       "      <th>caucasian</th>\n",
       "      <th>latino</th>\n",
       "      <th>asian</th>\n",
       "      <th>other</th>\n",
       "      <th>black_o</th>\n",
       "      <th>caucasian_o</th>\n",
       "      <th>latino_o</th>\n",
       "      <th>asian_o</th>\n",
       "      <th>other_o</th>\n",
       "      <th>iid</th>\n",
       "    </tr>\n",
       "    <tr>\n",
       "      <th>iid</th>\n",
       "      <th></th>\n",
       "      <th></th>\n",
       "      <th></th>\n",
       "      <th></th>\n",
       "      <th></th>\n",
       "      <th></th>\n",
       "      <th></th>\n",
       "      <th></th>\n",
       "      <th></th>\n",
       "      <th></th>\n",
       "      <th></th>\n",
       "      <th></th>\n",
       "      <th></th>\n",
       "      <th></th>\n",
       "      <th></th>\n",
       "      <th></th>\n",
       "      <th></th>\n",
       "      <th></th>\n",
       "      <th></th>\n",
       "      <th></th>\n",
       "      <th></th>\n",
       "    </tr>\n",
       "  </thead>\n",
       "  <tbody>\n",
       "    <tr>\n",
       "      <th>1</th>\n",
       "      <td>1.0</td>\n",
       "      <td>0.0</td>\n",
       "      <td>1.0</td>\n",
       "      <td>1.0</td>\n",
       "      <td>1.0</td>\n",
       "      <td>10.0</td>\n",
       "      <td>7.0</td>\n",
       "      <td>NaN</td>\n",
       "      <td>5.5</td>\n",
       "      <td>5.5</td>\n",
       "      <td>...</td>\n",
       "      <td>0.0</td>\n",
       "      <td>0.0</td>\n",
       "      <td>1.0</td>\n",
       "      <td>0.0</td>\n",
       "      <td>0.0</td>\n",
       "      <td>0.8</td>\n",
       "      <td>0.1</td>\n",
       "      <td>0.1</td>\n",
       "      <td>0.0</td>\n",
       "      <td>1</td>\n",
       "    </tr>\n",
       "    <tr>\n",
       "      <th>2</th>\n",
       "      <td>2.0</td>\n",
       "      <td>0.0</td>\n",
       "      <td>3.0</td>\n",
       "      <td>1.0</td>\n",
       "      <td>1.0</td>\n",
       "      <td>10.0</td>\n",
       "      <td>3.0</td>\n",
       "      <td>NaN</td>\n",
       "      <td>5.5</td>\n",
       "      <td>5.5</td>\n",
       "      <td>...</td>\n",
       "      <td>1.0</td>\n",
       "      <td>0.0</td>\n",
       "      <td>0.0</td>\n",
       "      <td>0.0</td>\n",
       "      <td>0.0</td>\n",
       "      <td>0.8</td>\n",
       "      <td>0.1</td>\n",
       "      <td>0.1</td>\n",
       "      <td>0.0</td>\n",
       "      <td>2</td>\n",
       "    </tr>\n",
       "    <tr>\n",
       "      <th>3</th>\n",
       "      <td>3.0</td>\n",
       "      <td>0.0</td>\n",
       "      <td>5.0</td>\n",
       "      <td>1.0</td>\n",
       "      <td>1.0</td>\n",
       "      <td>10.0</td>\n",
       "      <td>9.0</td>\n",
       "      <td>NaN</td>\n",
       "      <td>5.5</td>\n",
       "      <td>5.5</td>\n",
       "      <td>...</td>\n",
       "      <td>1.0</td>\n",
       "      <td>0.0</td>\n",
       "      <td>0.0</td>\n",
       "      <td>0.0</td>\n",
       "      <td>0.0</td>\n",
       "      <td>0.8</td>\n",
       "      <td>0.1</td>\n",
       "      <td>0.1</td>\n",
       "      <td>0.0</td>\n",
       "      <td>3</td>\n",
       "    </tr>\n",
       "    <tr>\n",
       "      <th>4</th>\n",
       "      <td>4.0</td>\n",
       "      <td>0.0</td>\n",
       "      <td>7.0</td>\n",
       "      <td>1.0</td>\n",
       "      <td>1.0</td>\n",
       "      <td>10.0</td>\n",
       "      <td>6.0</td>\n",
       "      <td>NaN</td>\n",
       "      <td>5.5</td>\n",
       "      <td>5.5</td>\n",
       "      <td>...</td>\n",
       "      <td>1.0</td>\n",
       "      <td>0.0</td>\n",
       "      <td>0.0</td>\n",
       "      <td>0.0</td>\n",
       "      <td>0.0</td>\n",
       "      <td>0.8</td>\n",
       "      <td>0.1</td>\n",
       "      <td>0.1</td>\n",
       "      <td>0.0</td>\n",
       "      <td>4</td>\n",
       "    </tr>\n",
       "    <tr>\n",
       "      <th>5</th>\n",
       "      <td>5.0</td>\n",
       "      <td>0.0</td>\n",
       "      <td>9.0</td>\n",
       "      <td>1.0</td>\n",
       "      <td>1.0</td>\n",
       "      <td>10.0</td>\n",
       "      <td>4.0</td>\n",
       "      <td>NaN</td>\n",
       "      <td>5.5</td>\n",
       "      <td>5.5</td>\n",
       "      <td>...</td>\n",
       "      <td>1.0</td>\n",
       "      <td>0.0</td>\n",
       "      <td>0.0</td>\n",
       "      <td>0.0</td>\n",
       "      <td>0.0</td>\n",
       "      <td>0.8</td>\n",
       "      <td>0.1</td>\n",
       "      <td>0.1</td>\n",
       "      <td>0.0</td>\n",
       "      <td>5</td>\n",
       "    </tr>\n",
       "  </tbody>\n",
       "</table>\n",
       "<p>5 rows × 234 columns</p>\n",
       "</div>"
      ],
      "text/plain": [
       "      id  gender  idg  condtn  wave  round  position  positin1  order  \\\n",
       "iid                                                                     \n",
       "1    1.0     0.0  1.0     1.0   1.0   10.0       7.0       NaN    5.5   \n",
       "2    2.0     0.0  3.0     1.0   1.0   10.0       3.0       NaN    5.5   \n",
       "3    3.0     0.0  5.0     1.0   1.0   10.0       9.0       NaN    5.5   \n",
       "4    4.0     0.0  7.0     1.0   1.0   10.0       6.0       NaN    5.5   \n",
       "5    5.0     0.0  9.0     1.0   1.0   10.0       4.0       NaN    5.5   \n",
       "\n",
       "     partner ...   caucasian  latino  asian  other  black_o  caucasian_o  \\\n",
       "iid          ...                                                           \n",
       "1        5.5 ...         0.0     0.0    1.0    0.0      0.0          0.8   \n",
       "2        5.5 ...         1.0     0.0    0.0    0.0      0.0          0.8   \n",
       "3        5.5 ...         1.0     0.0    0.0    0.0      0.0          0.8   \n",
       "4        5.5 ...         1.0     0.0    0.0    0.0      0.0          0.8   \n",
       "5        5.5 ...         1.0     0.0    0.0    0.0      0.0          0.8   \n",
       "\n",
       "     latino_o  asian_o  other_o  iid  \n",
       "iid                                   \n",
       "1         0.1      0.1      0.0    1  \n",
       "2         0.1      0.1      0.0    2  \n",
       "3         0.1      0.1      0.0    3  \n",
       "4         0.1      0.1      0.0    4  \n",
       "5         0.1      0.1      0.0    5  \n",
       "\n",
       "[5 rows x 234 columns]"
      ]
     },
     "execution_count": 11,
     "metadata": {},
     "output_type": "execute_result"
    }
   ],
   "source": [
    "# Grouping on iid (id of participant), averaging all other stats\n",
    "iid_df = df.groupby(['iid']).agg('mean')\n",
    "iid_df['iid'] = iid_df.index\n",
    "iid_df.head()"
   ]
  },
  {
   "cell_type": "code",
   "execution_count": 12,
   "metadata": {},
   "outputs": [],
   "source": [
    "iid_df.to_csv('../datasets/iid.csv', index=False)"
   ]
  },
  {
   "cell_type": "markdown",
   "metadata": {},
   "source": [
    "### Men vs Women"
   ]
  },
  {
   "cell_type": "code",
   "execution_count": 13,
   "metadata": {},
   "outputs": [],
   "source": [
    "# stratifiying df based on gender\n",
    "men_full = df[df['gender'] == 1]\n",
    "women_full = df[df['gender'] == 0]"
   ]
  },
  {
   "cell_type": "code",
   "execution_count": 14,
   "metadata": {},
   "outputs": [],
   "source": [
    "men_full.to_csv('../datasets/men_full.csv', index=False)\n",
    "women_full.to_csv('../datasets/women_full.csv', index=False)"
   ]
  },
  {
   "cell_type": "code",
   "execution_count": 15,
   "metadata": {},
   "outputs": [],
   "source": [
    "# stratifiying df based on gender\n",
    "men_agg = iid_df[iid_df['gender'] == 1]\n",
    "women_agg = iid_df[iid_df['gender'] == 0]"
   ]
  },
  {
   "cell_type": "code",
   "execution_count": 16,
   "metadata": {},
   "outputs": [],
   "source": [
    "men_agg.to_csv('../datasets/men_agg.csv', index=False)\n",
    "women_agg.to_csv('../datasets/women_agg.csv', index=False)"
   ]
  },
  {
   "cell_type": "markdown",
   "metadata": {},
   "source": [
    "### Waves 1-5, 6-11, 12-21"
   ]
  },
  {
   "cell_type": "code",
   "execution_count": 17,
   "metadata": {},
   "outputs": [],
   "source": [
    "# Stratifying into 3 different groups based on wave\n",
    "group1_mask = [i in range(0, 6) for i in iid_df['wave']]\n",
    "group1_df = iid_df[group1_mask]\n",
    "\n",
    "group2_mask = [i in range(6, 12) for i in iid_df['wave']]\n",
    "group2_df = iid_df[group2_mask]\n",
    "\n",
    "group3_mask = [i in range(12, 22) for i in iid_df['wave']]\n",
    "group3_df = iid_df[group3_mask]\n",
    "\n",
    "# Dropping any columns for which all are NA\n",
    "group1_df.dropna(axis=1, how='all', inplace=True)\n",
    "group2_df.dropna(axis=1, how='all', inplace=True)\n",
    "group3_df.dropna(axis=1, how='all', inplace=True)"
   ]
  },
  {
   "cell_type": "code",
   "execution_count": 18,
   "metadata": {},
   "outputs": [],
   "source": [
    "group1_df.to_csv('../datasets/group1.csv', index=False)\n",
    "group2_df.to_csv('../datasets/group2.csv', index=False)\n",
    "group3_df.to_csv('../datasets/group3.csv', index=False)"
   ]
  },
  {
   "cell_type": "markdown",
   "metadata": {},
   "source": [
    "### Recommendation DF"
   ]
  },
  {
   "cell_type": "code",
   "execution_count": 19,
   "metadata": {},
   "outputs": [],
   "source": [
    "# Features of interest\n",
    "features = ['age', 'imprace', 'imprelig', 'goal', 'date',\n",
    "           'go_out', 'exphappy', 'sports', 'tvsports',\n",
    "            'exercise','dining','museums',\n",
    "            'art','hiking','gaming','clubbing','reading',\n",
    "            'tv', 'theater', 'movies', 'concerts',\n",
    "            'music', 'shopping', 'yoga','attr1_1',\n",
    "            'sinc1_1','intel1_1','fun1_1','amb1_1',\n",
    "            'shar1_1','attr2_1',\n",
    "            'sinc2_1','intel2_1','fun2_1','amb2_1',\n",
    "            'shar2_1','attr3_1','sinc3_1','fun3_1',\n",
    "            'intel3_1','amb3_1']\n",
    "\n",
    "obj_traits = ['attr_o', 'fun_o',\n",
    "       'intel_o', 'sinc_o', 'amb_o']"
   ]
  },
  {
   "cell_type": "code",
   "execution_count": 20,
   "metadata": {},
   "outputs": [
    {
     "name": "stderr",
     "output_type": "stream",
     "text": [
      "C:\\Users\\Mason\\Anaconda3\\lib\\site-packages\\IPython\\core\\interactiveshell.py:3267: FutureWarning: 'iid' is both an index level and a column label.\n",
      "Defaulting to column, but this will raise an ambiguity error in a future version\n",
      "  exec(code_obj, self.user_global_ns, self.user_ns)\n"
     ]
    }
   ],
   "source": [
    "# Subsetting full women's df with just features and match success\n",
    "women_rec = women_full[features + ['dec'] + ['iid']]\n",
    "\n",
    "# Adding women's objective traits\n",
    "women_rec = pd.merge(women_rec, women_agg[obj_traits + ['iid']], on='iid').drop(columns='iid')\n",
    "\n",
    "# Renaming female columns to indicate female\n",
    "women_rec.columns = women_rec.columns + '_w'\n",
    "\n",
    "# Adding men's decision, partner id, match column for joining purposes\n",
    "women_rec['dec_m'] = women_full['dec_o']\n",
    "women_rec['pid'] = women_full['pid']\n",
    "women_rec['match'] = women_full['match']"
   ]
  },
  {
   "cell_type": "code",
   "execution_count": 21,
   "metadata": {
    "scrolled": true
   },
   "outputs": [],
   "source": [
    "# Subsetting full men df with features and objective traits\n",
    "men_rec = men_agg[features + obj_traits]\n",
    "\n",
    "# Renaming men's columns to designate male\n",
    "men_rec.columns = men_rec.columns + '_m'\n",
    "\n",
    "# Carrying over men's id for merge purposes\n",
    "men_rec['pid'] = men_agg.index"
   ]
  },
  {
   "cell_type": "code",
   "execution_count": 22,
   "metadata": {
    "scrolled": true
   },
   "outputs": [
    {
     "data": {
      "text/html": [
       "<div>\n",
       "<style scoped>\n",
       "    .dataframe tbody tr th:only-of-type {\n",
       "        vertical-align: middle;\n",
       "    }\n",
       "\n",
       "    .dataframe tbody tr th {\n",
       "        vertical-align: top;\n",
       "    }\n",
       "\n",
       "    .dataframe thead th {\n",
       "        text-align: right;\n",
       "    }\n",
       "</style>\n",
       "<table border=\"1\" class=\"dataframe\">\n",
       "  <thead>\n",
       "    <tr style=\"text-align: right;\">\n",
       "      <th></th>\n",
       "      <th>age_w</th>\n",
       "      <th>imprace_w</th>\n",
       "      <th>imprelig_w</th>\n",
       "      <th>goal_w</th>\n",
       "      <th>date_w</th>\n",
       "      <th>go_out_w</th>\n",
       "      <th>exphappy_w</th>\n",
       "      <th>sports_w</th>\n",
       "      <th>tvsports_w</th>\n",
       "      <th>exercise_w</th>\n",
       "      <th>...</th>\n",
       "      <th>attr3_1_m</th>\n",
       "      <th>sinc3_1_m</th>\n",
       "      <th>fun3_1_m</th>\n",
       "      <th>intel3_1_m</th>\n",
       "      <th>amb3_1_m</th>\n",
       "      <th>attr_o_m</th>\n",
       "      <th>fun_o_m</th>\n",
       "      <th>intel_o_m</th>\n",
       "      <th>sinc_o_m</th>\n",
       "      <th>amb_o_m</th>\n",
       "    </tr>\n",
       "  </thead>\n",
       "  <tbody>\n",
       "    <tr>\n",
       "      <th>0</th>\n",
       "      <td>21.0</td>\n",
       "      <td>2.0</td>\n",
       "      <td>4.0</td>\n",
       "      <td>2.0</td>\n",
       "      <td>7.0</td>\n",
       "      <td>1.0</td>\n",
       "      <td>3.0</td>\n",
       "      <td>9.0</td>\n",
       "      <td>2.0</td>\n",
       "      <td>8.0</td>\n",
       "      <td>...</td>\n",
       "      <td>8.0</td>\n",
       "      <td>9.0</td>\n",
       "      <td>7.0</td>\n",
       "      <td>8.0</td>\n",
       "      <td>5.0</td>\n",
       "      <td>5.6</td>\n",
       "      <td>5.4</td>\n",
       "      <td>8.2</td>\n",
       "      <td>8.8</td>\n",
       "      <td>6.4</td>\n",
       "    </tr>\n",
       "    <tr>\n",
       "      <th>1</th>\n",
       "      <td>24.0</td>\n",
       "      <td>2.0</td>\n",
       "      <td>5.0</td>\n",
       "      <td>1.0</td>\n",
       "      <td>5.0</td>\n",
       "      <td>1.0</td>\n",
       "      <td>4.0</td>\n",
       "      <td>3.0</td>\n",
       "      <td>2.0</td>\n",
       "      <td>7.0</td>\n",
       "      <td>...</td>\n",
       "      <td>8.0</td>\n",
       "      <td>9.0</td>\n",
       "      <td>7.0</td>\n",
       "      <td>8.0</td>\n",
       "      <td>5.0</td>\n",
       "      <td>5.6</td>\n",
       "      <td>5.4</td>\n",
       "      <td>8.2</td>\n",
       "      <td>8.8</td>\n",
       "      <td>6.4</td>\n",
       "    </tr>\n",
       "    <tr>\n",
       "      <th>2</th>\n",
       "      <td>25.0</td>\n",
       "      <td>8.0</td>\n",
       "      <td>4.0</td>\n",
       "      <td>6.0</td>\n",
       "      <td>3.0</td>\n",
       "      <td>1.0</td>\n",
       "      <td>4.0</td>\n",
       "      <td>3.0</td>\n",
       "      <td>8.0</td>\n",
       "      <td>7.0</td>\n",
       "      <td>...</td>\n",
       "      <td>8.0</td>\n",
       "      <td>9.0</td>\n",
       "      <td>7.0</td>\n",
       "      <td>8.0</td>\n",
       "      <td>5.0</td>\n",
       "      <td>5.6</td>\n",
       "      <td>5.4</td>\n",
       "      <td>8.2</td>\n",
       "      <td>8.8</td>\n",
       "      <td>6.4</td>\n",
       "    </tr>\n",
       "    <tr>\n",
       "      <th>3</th>\n",
       "      <td>23.0</td>\n",
       "      <td>1.0</td>\n",
       "      <td>1.0</td>\n",
       "      <td>1.0</td>\n",
       "      <td>5.0</td>\n",
       "      <td>1.0</td>\n",
       "      <td>1.0</td>\n",
       "      <td>1.0</td>\n",
       "      <td>1.0</td>\n",
       "      <td>6.0</td>\n",
       "      <td>...</td>\n",
       "      <td>8.0</td>\n",
       "      <td>9.0</td>\n",
       "      <td>7.0</td>\n",
       "      <td>8.0</td>\n",
       "      <td>5.0</td>\n",
       "      <td>5.6</td>\n",
       "      <td>5.4</td>\n",
       "      <td>8.2</td>\n",
       "      <td>8.8</td>\n",
       "      <td>6.4</td>\n",
       "    </tr>\n",
       "    <tr>\n",
       "      <th>4</th>\n",
       "      <td>21.0</td>\n",
       "      <td>8.0</td>\n",
       "      <td>1.0</td>\n",
       "      <td>2.0</td>\n",
       "      <td>4.0</td>\n",
       "      <td>1.0</td>\n",
       "      <td>7.0</td>\n",
       "      <td>7.0</td>\n",
       "      <td>4.0</td>\n",
       "      <td>7.0</td>\n",
       "      <td>...</td>\n",
       "      <td>8.0</td>\n",
       "      <td>9.0</td>\n",
       "      <td>7.0</td>\n",
       "      <td>8.0</td>\n",
       "      <td>5.0</td>\n",
       "      <td>5.6</td>\n",
       "      <td>5.4</td>\n",
       "      <td>8.2</td>\n",
       "      <td>8.8</td>\n",
       "      <td>6.4</td>\n",
       "    </tr>\n",
       "  </tbody>\n",
       "</table>\n",
       "<p>5 rows × 96 columns</p>\n",
       "</div>"
      ],
      "text/plain": [
       "   age_w  imprace_w  imprelig_w  goal_w  date_w  go_out_w  exphappy_w  \\\n",
       "0   21.0        2.0         4.0     2.0     7.0       1.0         3.0   \n",
       "1   24.0        2.0         5.0     1.0     5.0       1.0         4.0   \n",
       "2   25.0        8.0         4.0     6.0     3.0       1.0         4.0   \n",
       "3   23.0        1.0         1.0     1.0     5.0       1.0         1.0   \n",
       "4   21.0        8.0         1.0     2.0     4.0       1.0         7.0   \n",
       "\n",
       "   sports_w  tvsports_w  exercise_w   ...     attr3_1_m  sinc3_1_m  fun3_1_m  \\\n",
       "0       9.0         2.0         8.0   ...           8.0        9.0       7.0   \n",
       "1       3.0         2.0         7.0   ...           8.0        9.0       7.0   \n",
       "2       3.0         8.0         7.0   ...           8.0        9.0       7.0   \n",
       "3       1.0         1.0         6.0   ...           8.0        9.0       7.0   \n",
       "4       7.0         4.0         7.0   ...           8.0        9.0       7.0   \n",
       "\n",
       "   intel3_1_m  amb3_1_m  attr_o_m  fun_o_m  intel_o_m  sinc_o_m  amb_o_m  \n",
       "0         8.0       5.0       5.6      5.4        8.2       8.8      6.4  \n",
       "1         8.0       5.0       5.6      5.4        8.2       8.8      6.4  \n",
       "2         8.0       5.0       5.6      5.4        8.2       8.8      6.4  \n",
       "3         8.0       5.0       5.6      5.4        8.2       8.8      6.4  \n",
       "4         8.0       5.0       5.6      5.4        8.2       8.8      6.4  \n",
       "\n",
       "[5 rows x 96 columns]"
      ]
     },
     "execution_count": 22,
     "metadata": {},
     "output_type": "execute_result"
    }
   ],
   "source": [
    "# Merging dfs on male parter id\n",
    "rec_df = pd.merge(women_rec, men_rec, on=['pid'])\n",
    "rec_df.head()"
   ]
  },
  {
   "cell_type": "code",
   "execution_count": 23,
   "metadata": {},
   "outputs": [
    {
     "data": {
      "text/plain": [
       "Index(['age_w', 'imprace_w', 'imprelig_w', 'goal_w', 'date_w', 'go_out_w',\n",
       "       'exphappy_w', 'sports_w', 'tvsports_w', 'exercise_w', 'dining_w',\n",
       "       'museums_w', 'art_w', 'hiking_w', 'gaming_w', 'clubbing_w', 'reading_w',\n",
       "       'tv_w', 'theater_w', 'movies_w', 'concerts_w', 'music_w', 'shopping_w',\n",
       "       'yoga_w', 'attr1_1_w', 'sinc1_1_w', 'intel1_1_w', 'fun1_1_w',\n",
       "       'amb1_1_w', 'shar1_1_w', 'attr2_1_w', 'sinc2_1_w', 'intel2_1_w',\n",
       "       'fun2_1_w', 'amb2_1_w', 'shar2_1_w', 'attr3_1_w', 'sinc3_1_w',\n",
       "       'fun3_1_w', 'intel3_1_w', 'amb3_1_w', 'dec_w', 'attr_o_w', 'fun_o_w',\n",
       "       'intel_o_w', 'sinc_o_w', 'amb_o_w', 'dec_m', 'pid', 'match', 'age_m',\n",
       "       'imprace_m', 'imprelig_m', 'goal_m', 'date_m', 'go_out_m', 'exphappy_m',\n",
       "       'sports_m', 'tvsports_m', 'exercise_m', 'dining_m', 'museums_m',\n",
       "       'art_m', 'hiking_m', 'gaming_m', 'clubbing_m', 'reading_m', 'tv_m',\n",
       "       'theater_m', 'movies_m', 'concerts_m', 'music_m', 'shopping_m',\n",
       "       'yoga_m', 'attr1_1_m', 'sinc1_1_m', 'intel1_1_m', 'fun1_1_m',\n",
       "       'amb1_1_m', 'shar1_1_m', 'attr2_1_m', 'sinc2_1_m', 'intel2_1_m',\n",
       "       'fun2_1_m', 'amb2_1_m', 'shar2_1_m', 'attr3_1_m', 'sinc3_1_m',\n",
       "       'fun3_1_m', 'intel3_1_m', 'amb3_1_m', 'attr_o_m', 'fun_o_m',\n",
       "       'intel_o_m', 'sinc_o_m', 'amb_o_m'],\n",
       "      dtype='object')"
      ]
     },
     "execution_count": 23,
     "metadata": {},
     "output_type": "execute_result"
    }
   ],
   "source": [
    "rec_df.columns"
   ]
  },
  {
   "cell_type": "code",
   "execution_count": 24,
   "metadata": {},
   "outputs": [],
   "source": [
    "rec_df.to_csv('../datasets/rec_df.csv', index=False)"
   ]
  },
  {
   "cell_type": "markdown",
   "metadata": {},
   "source": [
    "### Preliminary Findings"
   ]
  },
  {
   "cell_type": "code",
   "execution_count": null,
   "metadata": {},
   "outputs": [],
   "source": [
    "'hello'."
   ]
  },
  {
   "cell_type": "code",
   "execution_count": 86,
   "metadata": {},
   "outputs": [],
   "source": [
    "time_3 = [i for i in men_agg.columns if '_3' in i] + [i for i in men_agg.columns if '_2' in i]"
   ]
  },
  {
   "cell_type": "code",
   "execution_count": 139,
   "metadata": {},
   "outputs": [
    {
     "data": {
      "image/png": "[encoded data removed]",
      "text/plain": [
       "<Figure size 864x864 with 2 Axes>"
      ]
     },
     "metadata": {},
     "output_type": "display_data"
    }
   ],
   "source": [
    "sns.set(font_scale=1.2)\n",
    "fig, ax = plt.subplots(figsize=(12,12))\n",
    "sns.heatmap(men_agg.drop(columns = ['journalism_c','undecided','speech_pathology_c','gender','match', 'them_cal', 'like_o'] + time_3).corr()[['dec_o']].sort_values('dec_o').tail(11),\n",
    "            vmax=1, vmin=-1, cmap='YlGnBu', annot=True, ax=ax);\n",
    "ax.invert_yaxis()\n",
    "plt.tight_layout()\n",
    "plt.savefig('../images/top_10_men.png')"
   ]
  },
  {
   "cell_type": "code",
   "execution_count": 135,
   "metadata": {},
   "outputs": [
    {
     "data": {
      "image/png": "[encoded data removed]",
      "text/plain": [
       "<Figure size 864x864 with 2 Axes>"
      ]
     },
     "metadata": {},
     "output_type": "display_data"
    }
   ],
   "source": [
    "sns.set(font_scale=1.2)\n",
    "fig, ax = plt.subplots(figsize=(12,12))\n",
    "sns.heatmap(men_agg.drop(columns=['race', 'partner', 'position','condtn', 'shar1_s'] + time_3).corr()[['dec_o']].sort_values('dec_o').head(10),\n",
    "            vmax=1, vmin=-1, cmap='YlGnBu', annot=True, ax=ax);\n",
    "ax.invert_yaxis()\n",
    "plt.tight_layout()\n",
    "plt.savefig('../images/bottom_10_men.png')"
   ]
  },
  {
   "cell_type": "code",
   "execution_count": 140,
   "metadata": {},
   "outputs": [
    {
     "data": {
      "image/png": "[encoded data removed]",
      "text/plain": [
       "<Figure size 1080x1080 with 2 Axes>"
      ]
     },
     "metadata": {},
     "output_type": "display_data"
    }
   ],
   "source": [
    "sns.set(font_scale=1.5)\n",
    "fig, ax = plt.subplots(figsize=(15,15))\n",
    "sns.heatmap(women_agg.drop(columns=['architect', 'undecided', 'architecture_c',\n",
    "                                   'sports/athletics_c',\n",
    "                                   'real_estate_c',\n",
    "                                   'gender', 'match', 'length','them_cal', 'like_o'] + time_3).corr()[['dec_o']].sort_values('dec_o').tail(11),\n",
    "            vmax=1, vmin=-1, cmap='YlGnBu', annot=True, ax=ax);\n",
    "ax.invert_yaxis()\n",
    "plt.tight_layout()\n",
    "plt.savefig('../images/top_10_women.png')"
   ]
  },
  {
   "cell_type": "code",
   "execution_count": 141,
   "metadata": {},
   "outputs": [
    {
     "data": {
      "image/png": "[encoded data removed]",
      "text/plain": [
       "<Figure size 864x864 with 2 Axes>"
      ]
     },
     "metadata": {},
     "output_type": "display_data"
    }
   ],
   "source": [
    "sns.set(font_scale=1.2)\n",
    "fig, ax = plt.subplots(figsize=(12,12))\n",
    "sns.heatmap(women_agg.drop(columns=['wave','iid','pid',] + time_3).corr()[['dec_o']].sort_values('dec_o').head(10),\n",
    "            vmax=1, vmin=-1, cmap='YlGnBu', annot=True, ax=ax);\n",
    "ax.invert_yaxis()\n",
    "plt.tight_layout()\n",
    "plt.savefig('../images/bottom_10_Women.png')"
   ]
  }
 ],
 "metadata": {
  "kernelspec": {
   "display_name": "Python 3",
   "language": "python",
   "name": "python3"
  },
  "language_info": {
   "codemirror_mode": {
    "name": "ipython",
    "version": 3
   },
   "file_extension": ".py",
   "mimetype": "text/x-python",
   "name": "python",
   "nbconvert_exporter": "python",
   "pygments_lexer": "ipython3",
   "version": "3.6.7"
  }
 },
 "nbformat": 4,
 "nbformat_minor": 2
}
